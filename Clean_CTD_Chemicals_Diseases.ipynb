{
 "cells": [
  {
   "cell_type": "code",
   "execution_count": 1,
   "id": "495be0f5",
   "metadata": {},
   "outputs": [],
   "source": [
    "import pandas as pd\n",
    "import json\n",
    "from pathlib import Path"
   ]
  },
  {
   "cell_type": "code",
   "execution_count": null,
   "id": "e4c65bbe",
   "metadata": {},
   "outputs": [],
   "source": [
    "df = pd.read_csv(\"CTD_chemicals_diseases.csv\")"
   ]
  },
  {
   "cell_type": "code",
   "execution_count": 3,
   "id": "820b7e58",
   "metadata": {},
   "outputs": [
    {
     "name": "stdout",
     "output_type": "stream",
     "text": [
      "Original shape: (1048546, 10)\n"
     ]
    }
   ],
   "source": [
    "print(\"Original shape:\", df.shape)"
   ]
  },
  {
   "cell_type": "code",
   "execution_count": 4,
   "id": "b8c97f06",
   "metadata": {},
   "outputs": [
    {
     "data": {
      "text/html": [
       "<div>\n",
       "<style scoped>\n",
       "    .dataframe tbody tr th:only-of-type {\n",
       "        vertical-align: middle;\n",
       "    }\n",
       "\n",
       "    .dataframe tbody tr th {\n",
       "        vertical-align: top;\n",
       "    }\n",
       "\n",
       "    .dataframe thead th {\n",
       "        text-align: right;\n",
       "    }\n",
       "</style>\n",
       "<table border=\"1\" class=\"dataframe\">\n",
       "  <thead>\n",
       "    <tr style=\"text-align: right;\">\n",
       "      <th></th>\n",
       "      <th>ChemicalName</th>\n",
       "      <th>ChemicalID</th>\n",
       "      <th>CasRN</th>\n",
       "      <th>DiseaseName</th>\n",
       "      <th>DiseaseID</th>\n",
       "      <th>DirectEvidence</th>\n",
       "      <th>InferenceGeneSymbol</th>\n",
       "      <th>InferenceScore</th>\n",
       "      <th>OmimIDs</th>\n",
       "      <th>PubMedIDs</th>\n",
       "    </tr>\n",
       "  </thead>\n",
       "  <tbody>\n",
       "    <tr>\n",
       "      <th>0</th>\n",
       "      <td>10074-G5</td>\n",
       "      <td>C534883</td>\n",
       "      <td>NaN</td>\n",
       "      <td>Adenocarcinoma</td>\n",
       "      <td>MESH:D000230</td>\n",
       "      <td>NaN</td>\n",
       "      <td>MYC</td>\n",
       "      <td>4.06</td>\n",
       "      <td>NaN</td>\n",
       "      <td>26432044</td>\n",
       "    </tr>\n",
       "    <tr>\n",
       "      <th>1</th>\n",
       "      <td>10074-G5</td>\n",
       "      <td>C534883</td>\n",
       "      <td>NaN</td>\n",
       "      <td>Adenocarcinoma of Lung</td>\n",
       "      <td>MESH:D000077192</td>\n",
       "      <td>NaN</td>\n",
       "      <td>MYC</td>\n",
       "      <td>4.30</td>\n",
       "      <td>NaN</td>\n",
       "      <td>26656844|27602772</td>\n",
       "    </tr>\n",
       "    <tr>\n",
       "      <th>2</th>\n",
       "      <td>10074-G5</td>\n",
       "      <td>C534883</td>\n",
       "      <td>NaN</td>\n",
       "      <td>Alopecia</td>\n",
       "      <td>MESH:D000505</td>\n",
       "      <td>NaN</td>\n",
       "      <td>AR</td>\n",
       "      <td>4.51</td>\n",
       "      <td>NaN</td>\n",
       "      <td>15902657</td>\n",
       "    </tr>\n",
       "    <tr>\n",
       "      <th>3</th>\n",
       "      <td>10074-G5</td>\n",
       "      <td>C534883</td>\n",
       "      <td>NaN</td>\n",
       "      <td>Androgen-Insensitivity Syndrome</td>\n",
       "      <td>MESH:D013734</td>\n",
       "      <td>NaN</td>\n",
       "      <td>AR</td>\n",
       "      <td>6.88</td>\n",
       "      <td>300068|312300</td>\n",
       "      <td>1303262|8281139</td>\n",
       "    </tr>\n",
       "    <tr>\n",
       "      <th>4</th>\n",
       "      <td>10074-G5</td>\n",
       "      <td>C534883</td>\n",
       "      <td>NaN</td>\n",
       "      <td>Astrocytoma</td>\n",
       "      <td>MESH:D001254</td>\n",
       "      <td>NaN</td>\n",
       "      <td>AR</td>\n",
       "      <td>4.95</td>\n",
       "      <td>NaN</td>\n",
       "      <td>24680642</td>\n",
       "    </tr>\n",
       "  </tbody>\n",
       "</table>\n",
       "</div>"
      ],
      "text/plain": [
       "  ChemicalName ChemicalID CasRN                      DiseaseName  \\\n",
       "0     10074-G5    C534883   NaN                   Adenocarcinoma   \n",
       "1     10074-G5    C534883   NaN           Adenocarcinoma of Lung   \n",
       "2     10074-G5    C534883   NaN                         Alopecia   \n",
       "3     10074-G5    C534883   NaN  Androgen-Insensitivity Syndrome   \n",
       "4     10074-G5    C534883   NaN                      Astrocytoma   \n",
       "\n",
       "         DiseaseID DirectEvidence InferenceGeneSymbol  InferenceScore  \\\n",
       "0     MESH:D000230            NaN                 MYC            4.06   \n",
       "1  MESH:D000077192            NaN                 MYC            4.30   \n",
       "2     MESH:D000505            NaN                  AR            4.51   \n",
       "3     MESH:D013734            NaN                  AR            6.88   \n",
       "4     MESH:D001254            NaN                  AR            4.95   \n",
       "\n",
       "         OmimIDs          PubMedIDs  \n",
       "0            NaN           26432044  \n",
       "1            NaN  26656844|27602772  \n",
       "2            NaN           15902657  \n",
       "3  300068|312300    1303262|8281139  \n",
       "4            NaN           24680642  "
      ]
     },
     "execution_count": 4,
     "metadata": {},
     "output_type": "execute_result"
    }
   ],
   "source": [
    "df.head()"
   ]
  },
  {
   "cell_type": "code",
   "execution_count": 5,
   "id": "734f1934",
   "metadata": {},
   "outputs": [],
   "source": [
    "# Drop rows where chemical or disease name is missing\n",
    "df = df.dropna(subset=[\"ChemicalName\", \"DiseaseName\"])"
   ]
  },
  {
   "cell_type": "code",
   "execution_count": 6,
   "id": "a3fc720d",
   "metadata": {},
   "outputs": [],
   "source": [
    "# Remove self-loop cases (chemical == disease)\n",
    "df = df[df[\"ChemicalName\"].str.strip().str.lower() != df[\"DiseaseName\"].str.strip().str.lower()]"
   ]
  },
  {
   "cell_type": "code",
   "execution_count": 7,
   "id": "cf8296d3",
   "metadata": {},
   "outputs": [
    {
     "name": "stdout",
     "output_type": "stream",
     "text": [
      "After dropping invalid rows: (1048546, 10)\n"
     ]
    },
    {
     "data": {
      "text/html": [
       "<div>\n",
       "<style scoped>\n",
       "    .dataframe tbody tr th:only-of-type {\n",
       "        vertical-align: middle;\n",
       "    }\n",
       "\n",
       "    .dataframe tbody tr th {\n",
       "        vertical-align: top;\n",
       "    }\n",
       "\n",
       "    .dataframe thead th {\n",
       "        text-align: right;\n",
       "    }\n",
       "</style>\n",
       "<table border=\"1\" class=\"dataframe\">\n",
       "  <thead>\n",
       "    <tr style=\"text-align: right;\">\n",
       "      <th></th>\n",
       "      <th>ChemicalName</th>\n",
       "      <th>ChemicalID</th>\n",
       "      <th>CasRN</th>\n",
       "      <th>DiseaseName</th>\n",
       "      <th>DiseaseID</th>\n",
       "      <th>DirectEvidence</th>\n",
       "      <th>InferenceGeneSymbol</th>\n",
       "      <th>InferenceScore</th>\n",
       "      <th>OmimIDs</th>\n",
       "      <th>PubMedIDs</th>\n",
       "    </tr>\n",
       "  </thead>\n",
       "  <tbody>\n",
       "    <tr>\n",
       "      <th>0</th>\n",
       "      <td>10074-G5</td>\n",
       "      <td>C534883</td>\n",
       "      <td>NaN</td>\n",
       "      <td>Adenocarcinoma</td>\n",
       "      <td>MESH:D000230</td>\n",
       "      <td>NaN</td>\n",
       "      <td>MYC</td>\n",
       "      <td>4.06</td>\n",
       "      <td>NaN</td>\n",
       "      <td>26432044</td>\n",
       "    </tr>\n",
       "    <tr>\n",
       "      <th>1</th>\n",
       "      <td>10074-G5</td>\n",
       "      <td>C534883</td>\n",
       "      <td>NaN</td>\n",
       "      <td>Adenocarcinoma of Lung</td>\n",
       "      <td>MESH:D000077192</td>\n",
       "      <td>NaN</td>\n",
       "      <td>MYC</td>\n",
       "      <td>4.30</td>\n",
       "      <td>NaN</td>\n",
       "      <td>26656844|27602772</td>\n",
       "    </tr>\n",
       "    <tr>\n",
       "      <th>2</th>\n",
       "      <td>10074-G5</td>\n",
       "      <td>C534883</td>\n",
       "      <td>NaN</td>\n",
       "      <td>Alopecia</td>\n",
       "      <td>MESH:D000505</td>\n",
       "      <td>NaN</td>\n",
       "      <td>AR</td>\n",
       "      <td>4.51</td>\n",
       "      <td>NaN</td>\n",
       "      <td>15902657</td>\n",
       "    </tr>\n",
       "    <tr>\n",
       "      <th>3</th>\n",
       "      <td>10074-G5</td>\n",
       "      <td>C534883</td>\n",
       "      <td>NaN</td>\n",
       "      <td>Androgen-Insensitivity Syndrome</td>\n",
       "      <td>MESH:D013734</td>\n",
       "      <td>NaN</td>\n",
       "      <td>AR</td>\n",
       "      <td>6.88</td>\n",
       "      <td>300068|312300</td>\n",
       "      <td>1303262|8281139</td>\n",
       "    </tr>\n",
       "    <tr>\n",
       "      <th>4</th>\n",
       "      <td>10074-G5</td>\n",
       "      <td>C534883</td>\n",
       "      <td>NaN</td>\n",
       "      <td>Astrocytoma</td>\n",
       "      <td>MESH:D001254</td>\n",
       "      <td>NaN</td>\n",
       "      <td>AR</td>\n",
       "      <td>4.95</td>\n",
       "      <td>NaN</td>\n",
       "      <td>24680642</td>\n",
       "    </tr>\n",
       "  </tbody>\n",
       "</table>\n",
       "</div>"
      ],
      "text/plain": [
       "  ChemicalName ChemicalID CasRN                      DiseaseName  \\\n",
       "0     10074-G5    C534883   NaN                   Adenocarcinoma   \n",
       "1     10074-G5    C534883   NaN           Adenocarcinoma of Lung   \n",
       "2     10074-G5    C534883   NaN                         Alopecia   \n",
       "3     10074-G5    C534883   NaN  Androgen-Insensitivity Syndrome   \n",
       "4     10074-G5    C534883   NaN                      Astrocytoma   \n",
       "\n",
       "         DiseaseID DirectEvidence InferenceGeneSymbol  InferenceScore  \\\n",
       "0     MESH:D000230            NaN                 MYC            4.06   \n",
       "1  MESH:D000077192            NaN                 MYC            4.30   \n",
       "2     MESH:D000505            NaN                  AR            4.51   \n",
       "3     MESH:D013734            NaN                  AR            6.88   \n",
       "4     MESH:D001254            NaN                  AR            4.95   \n",
       "\n",
       "         OmimIDs          PubMedIDs  \n",
       "0            NaN           26432044  \n",
       "1            NaN  26656844|27602772  \n",
       "2            NaN           15902657  \n",
       "3  300068|312300    1303262|8281139  \n",
       "4            NaN           24680642  "
      ]
     },
     "execution_count": 7,
     "metadata": {},
     "output_type": "execute_result"
    }
   ],
   "source": [
    "print(\"After dropping invalid rows:\", df.shape)\n",
    "df.head()\n"
   ]
  },
  {
   "cell_type": "code",
   "execution_count": 8,
   "id": "8e7c5164",
   "metadata": {},
   "outputs": [
    {
     "data": {
      "text/html": [
       "<div>\n",
       "<style scoped>\n",
       "    .dataframe tbody tr th:only-of-type {\n",
       "        vertical-align: middle;\n",
       "    }\n",
       "\n",
       "    .dataframe tbody tr th {\n",
       "        vertical-align: top;\n",
       "    }\n",
       "\n",
       "    .dataframe thead th {\n",
       "        text-align: right;\n",
       "    }\n",
       "</style>\n",
       "<table border=\"1\" class=\"dataframe\">\n",
       "  <thead>\n",
       "    <tr style=\"text-align: right;\">\n",
       "      <th></th>\n",
       "      <th>ChemicalName</th>\n",
       "      <th>Relation</th>\n",
       "      <th>DiseaseName</th>\n",
       "    </tr>\n",
       "  </thead>\n",
       "  <tbody>\n",
       "    <tr>\n",
       "      <th>0</th>\n",
       "      <td>10074-G5</td>\n",
       "      <td>associated_with</td>\n",
       "      <td>Adenocarcinoma</td>\n",
       "    </tr>\n",
       "    <tr>\n",
       "      <th>1</th>\n",
       "      <td>10074-G5</td>\n",
       "      <td>associated_with</td>\n",
       "      <td>Adenocarcinoma of Lung</td>\n",
       "    </tr>\n",
       "    <tr>\n",
       "      <th>2</th>\n",
       "      <td>10074-G5</td>\n",
       "      <td>associated_with</td>\n",
       "      <td>Alopecia</td>\n",
       "    </tr>\n",
       "    <tr>\n",
       "      <th>3</th>\n",
       "      <td>10074-G5</td>\n",
       "      <td>associated_with</td>\n",
       "      <td>Androgen-Insensitivity Syndrome</td>\n",
       "    </tr>\n",
       "    <tr>\n",
       "      <th>4</th>\n",
       "      <td>10074-G5</td>\n",
       "      <td>associated_with</td>\n",
       "      <td>Astrocytoma</td>\n",
       "    </tr>\n",
       "  </tbody>\n",
       "</table>\n",
       "</div>"
      ],
      "text/plain": [
       "  ChemicalName         Relation                      DiseaseName\n",
       "0     10074-G5  associated_with                   Adenocarcinoma\n",
       "1     10074-G5  associated_with           Adenocarcinoma of Lung\n",
       "2     10074-G5  associated_with                         Alopecia\n",
       "3     10074-G5  associated_with  Androgen-Insensitivity Syndrome\n",
       "4     10074-G5  associated_with                      Astrocytoma"
      ]
     },
     "execution_count": 8,
     "metadata": {},
     "output_type": "execute_result"
    }
   ],
   "source": [
    "# Use DirectEvidence if available, otherwise fallback to \"associated_with\"\n",
    "def resolve_relation(row):\n",
    "    return row[\"DirectEvidence\"] if pd.notna(row[\"DirectEvidence\"]) else \"associated_with\"\n",
    "\n",
    "df[\"Relation\"] = df.apply(resolve_relation, axis=1)\n",
    "\n",
    "# Peek at the new column\n",
    "df[[\"ChemicalName\", \"Relation\", \"DiseaseName\"]].head()\n"
   ]
  },
  {
   "cell_type": "code",
   "execution_count": 9,
   "id": "c9873bcc",
   "metadata": {},
   "outputs": [
    {
     "name": "stdout",
     "output_type": "stream",
     "text": [
      "After deduplication: (470725, 6)\n"
     ]
    }
   ],
   "source": [
    "# Keep only relevant fields for triplet extraction\n",
    "df = df[[\"ChemicalName\", \"Relation\", \"DiseaseName\", \"ChemicalID\", \"DiseaseID\", \"PubMedIDs\"]]\n",
    "\n",
    "# Drop duplicates\n",
    "df = df.drop_duplicates(subset=[\"ChemicalName\", \"Relation\", \"DiseaseName\"])\n",
    "\n",
    "print(\"After deduplication:\", df.shape)\n"
   ]
  },
  {
   "cell_type": "code",
   "execution_count": 10,
   "id": "e3df3163",
   "metadata": {},
   "outputs": [
    {
     "name": "stdout",
     "output_type": "stream",
     "text": [
      "Sample triplet:\n"
     ]
    },
    {
     "data": {
      "text/plain": [
       "{'head': '10074-G5',\n",
       " 'relation': 'associated_with',\n",
       " 'tail': 'Adenocarcinoma',\n",
       " 'source': 'CTD_chemicals_diseases',\n",
       " 'pubmed_ids': ['26432044'],\n",
       " 'chemical_id': 'C534883',\n",
       " 'disease_id': 'MESH:D000230'}"
      ]
     },
     "execution_count": 10,
     "metadata": {},
     "output_type": "execute_result"
    }
   ],
   "source": [
    "# Convert each row to a structured dictionary\n",
    "triplets = []\n",
    "\n",
    "for _, row in df.iterrows():\n",
    "    triplets.append({\n",
    "        \"head\": row[\"ChemicalName\"].strip(),\n",
    "        \"relation\": row[\"Relation\"].strip(),\n",
    "        \"tail\": row[\"DiseaseName\"].strip(),\n",
    "        \"source\": \"CTD_chemicals_diseases\",\n",
    "        \"pubmed_ids\": str(row[\"PubMedIDs\"]).split(\"|\") if pd.notna(row[\"PubMedIDs\"]) else [],\n",
    "        \"chemical_id\": row[\"ChemicalID\"] if pd.notna(row[\"ChemicalID\"]) else None,\n",
    "        \"disease_id\": row[\"DiseaseID\"] if pd.notna(row[\"DiseaseID\"]) else None\n",
    "    })\n",
    "\n",
    "print(\"Sample triplet:\")\n",
    "triplets[0]\n"
   ]
  },
  {
   "cell_type": "code",
   "execution_count": null,
   "id": "ef6f7144",
   "metadata": {},
   "outputs": [
    {
     "name": "stdout",
     "output_type": "stream",
     "text": [
      "✅ Saved 470725 cleaned triplets to triplets_chem_dis_cleaned.json\n"
     ]
    }
   ],
   "source": [
    "# Save to file\n",
    "output_path = Path(\"triplets_chem_dis_cleaned.json\")\n",
    "with open(output_path, \"w\", encoding=\"utf-8\") as f:\n",
    "    json.dump(triplets, f, indent=2)\n",
    "\n",
    "print(f\"Saved {len(triplets)} cleaned triplets to {output_path}\")\n"
   ]
  },
  {
   "cell_type": "code",
   "execution_count": null,
   "id": "24e97543",
   "metadata": {},
   "outputs": [],
   "source": []
  }
 ],
 "metadata": {
  "kernelspec": {
   "display_name": "Python 3",
   "language": "python",
   "name": "python3"
  },
  "language_info": {
   "codemirror_mode": {
    "name": "ipython",
    "version": 3
   },
   "file_extension": ".py",
   "mimetype": "text/x-python",
   "name": "python",
   "nbconvert_exporter": "python",
   "pygments_lexer": "ipython3",
   "version": "3.12.6"
  }
 },
 "nbformat": 4,
 "nbformat_minor": 5
}
